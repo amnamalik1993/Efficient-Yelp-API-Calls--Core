{
 "cells": [
  {
   "cell_type": "code",
   "execution_count": 1,
   "id": "696555cf",
   "metadata": {},
   "outputs": [],
   "source": [
    "# Standard Imports\n",
    "import numpy as np\n",
    "import pandas as pd\n",
    "import matplotlib.pyplot as plt\n",
    "import seaborn as sns\n",
    "\n",
    "# Additional Imports\n",
    "import os, json, math, time\n",
    "from yelpapi import YelpAPI\n",
    "from tqdm.notebook import tqdm_notebook"
   ]
  },
  {
   "cell_type": "code",
   "execution_count": 2,
   "id": "6453e39d",
   "metadata": {},
   "outputs": [],
   "source": [
    "with open('/Users/amnam/.secret/yelp_api.json') as f:\n",
    "    login = json.load(f)\n",
    "\n",
    "yelp_api = YelpAPI(login['api-key'], timeout_s=5.0)\n"
   ]
  },
  {
   "cell_type": "code",
   "execution_count": 3,
   "id": "513091ba",
   "metadata": {},
   "outputs": [],
   "source": [
    "# set our API call parameters \n",
    "LOCATION = 'NY,NY'\n",
    "TERM = 'Burger'"
   ]
  },
  {
   "cell_type": "code",
   "execution_count": 4,
   "id": "8d738f02",
   "metadata": {},
   "outputs": [
    {
     "data": {
      "text/plain": [
       "'Data/results_in_progress_NY_burger.json'"
      ]
     },
     "execution_count": 4,
     "metadata": {},
     "output_type": "execute_result"
    }
   ],
   "source": [
    "JSON_FILE = \"Data/results_in_progress_NY_burger.json\"\n",
    "JSON_FILE"
   ]
  },
  {
   "cell_type": "code",
   "execution_count": 5,
   "id": "00dfd36e",
   "metadata": {},
   "outputs": [
    {
     "name": "stdout",
     "output_type": "stream",
     "text": [
      "[i] Data/results_in_progress_NY_burger.json not found. Saving empty list to file.\n"
     ]
    }
   ],
   "source": [
    "## Check if JSON_FILE exists\n",
    "file_exists = os.path.isfile(JSON_FILE)\n",
    "## If it does not exist: \n",
    "if file_exists == False:\n",
    "    \n",
    "    ## CREATE ANY NEEDED FOLDERS\n",
    "    # Get the Folder Name only\n",
    "    folder = os.path.dirname(JSON_FILE)\n",
    "    ## If JSON_FILE included a folder:\n",
    "    if len(folder)>0:\n",
    "        # create the folder\n",
    "        os.makedirs(folder,exist_ok=True)\n",
    "        \n",
    "        \n",
    "    ## INFORM USER AND SAVE EMPTY LIST\n",
    "    print(f'[i] {JSON_FILE} not found. Saving empty list to file.')\n",
    "    \n",
    "    \n",
    "    # save an empty list\n",
    "    with open(JSON_FILE,'w') as f:\n",
    "        json.dump([],f)  \n",
    "# If it exists, inform user\n",
    "else:\n",
    "    print(f\"[i] {JSON_FILE} already exists.\")"
   ]
  },
  {
   "cell_type": "code",
   "execution_count": 6,
   "id": "812cac51",
   "metadata": {},
   "outputs": [
    {
     "name": "stdout",
     "output_type": "stream",
     "text": [
      "- 0 previous results found.\n"
     ]
    }
   ],
   "source": [
    "## Load previous results and use len of results for offset\n",
    "with open(JSON_FILE,'r') as f:\n",
    "    previous_results = json.load(f)\n",
    "    \n",
    "## set offset based on previous results\n",
    "n_results = len(previous_results)\n",
    "print(f'- {n_results} previous results found.')"
   ]
  },
  {
   "cell_type": "code",
   "execution_count": 7,
   "id": "623862b4",
   "metadata": {},
   "outputs": [
    {
     "data": {
      "text/plain": [
       "dict_keys(['businesses', 'total', 'region'])"
      ]
     },
     "execution_count": 7,
     "metadata": {},
     "output_type": "execute_result"
    }
   ],
   "source": [
    "# use our yelp_api variable's search_query method to perform our API call\n",
    "results = yelp_api.search_query(location=LOCATION,\n",
    "                                term=TERM,\n",
    "                               offset=n_results)\n",
    "results.keys()"
   ]
  },
  {
   "cell_type": "code",
   "execution_count": 8,
   "id": "f48727b6",
   "metadata": {},
   "outputs": [
    {
     "data": {
      "text/plain": [
       "16100"
      ]
     },
     "execution_count": 8,
     "metadata": {},
     "output_type": "execute_result"
    }
   ],
   "source": [
    "## How many results total?\n",
    "total_results = results['total']\n",
    "total_results"
   ]
  },
  {
   "cell_type": "code",
   "execution_count": 9,
   "id": "c23bc02e",
   "metadata": {},
   "outputs": [
    {
     "data": {
      "text/plain": [
       "20"
      ]
     },
     "execution_count": 9,
     "metadata": {},
     "output_type": "execute_result"
    }
   ],
   "source": [
    "## How many did we get the details for?\n",
    "results_per_page = len(results['businesses'])\n",
    "results_per_page"
   ]
  },
  {
   "cell_type": "code",
   "execution_count": 10,
   "id": "c2401e44",
   "metadata": {},
   "outputs": [
    {
     "data": {
      "text/plain": [
       "805"
      ]
     },
     "execution_count": 10,
     "metadata": {},
     "output_type": "execute_result"
    }
   ],
   "source": [
    "# Import additional packages for controlling our loop\n",
    "import time, math\n",
    "# Use math.ceil to round up for the total number of pages of results.\n",
    "n_pages = math.ceil((results['total']-n_results)/ results_per_page)\n",
    "n_pages"
   ]
  },
  {
   "cell_type": "code",
   "execution_count": 11,
   "id": "cceaa7ed",
   "metadata": {},
   "outputs": [],
   "source": [
    "# join new results with old list with extend and save to file\n",
    "previous_results.extend(results['businesses'])  \n",
    "with open(JSON_FILE,'w') as f:\n",
    "     json.dump(previous_results,f)"
   ]
  },
  {
   "cell_type": "code",
   "execution_count": 12,
   "id": "2904ce02",
   "metadata": {},
   "outputs": [
    {
     "data": {
      "application/vnd.jupyter.widget-view+json": {
       "model_id": "f341ddf717e24c399e0e4d4d1630f38f",
       "version_major": 2,
       "version_minor": 0
      },
      "text/plain": [
       "  0%|          | 0/805 [00:00<?, ?it/s]"
      ]
     },
     "metadata": {},
     "output_type": "display_data"
    }
   ],
   "source": [
    "from tqdm.notebook import tqdm_notebook\n",
    "import time\n",
    "for i in tqdm_notebook(range(n_pages)):\n",
    "    # adds 200 ms pause\n",
    "    time.sleep(.2) "
   ]
  },
  {
   "cell_type": "code",
   "execution_count": 13,
   "id": "b2143265",
   "metadata": {},
   "outputs": [
    {
     "data": {
      "text/html": [
       "<div>\n",
       "<style scoped>\n",
       "    .dataframe tbody tr th:only-of-type {\n",
       "        vertical-align: middle;\n",
       "    }\n",
       "\n",
       "    .dataframe tbody tr th {\n",
       "        vertical-align: top;\n",
       "    }\n",
       "\n",
       "    .dataframe thead th {\n",
       "        text-align: right;\n",
       "    }\n",
       "</style>\n",
       "<table border=\"1\" class=\"dataframe\">\n",
       "  <thead>\n",
       "    <tr style=\"text-align: right;\">\n",
       "      <th></th>\n",
       "      <th>id</th>\n",
       "      <th>alias</th>\n",
       "      <th>name</th>\n",
       "      <th>image_url</th>\n",
       "      <th>is_closed</th>\n",
       "      <th>url</th>\n",
       "      <th>review_count</th>\n",
       "      <th>categories</th>\n",
       "      <th>rating</th>\n",
       "      <th>coordinates</th>\n",
       "      <th>transactions</th>\n",
       "      <th>price</th>\n",
       "      <th>location</th>\n",
       "      <th>phone</th>\n",
       "      <th>display_phone</th>\n",
       "      <th>distance</th>\n",
       "    </tr>\n",
       "  </thead>\n",
       "  <tbody>\n",
       "    <tr>\n",
       "      <th>0</th>\n",
       "      <td>8xpGj_YkI2X6QxqXUJPw7g</td>\n",
       "      <td>7th-street-burger-new-york</td>\n",
       "      <td>7th Street Burger</td>\n",
       "      <td>https://s3-media2.fl.yelpcdn.com/bphoto/GYqi52...</td>\n",
       "      <td>False</td>\n",
       "      <td>https://www.yelp.com/biz/7th-street-burger-new...</td>\n",
       "      <td>267</td>\n",
       "      <td>[{'alias': 'burgers', 'title': 'Burgers'}]</td>\n",
       "      <td>4.5</td>\n",
       "      <td>{'latitude': 40.72697, 'longitude': -73.98546}</td>\n",
       "      <td>[pickup, delivery]</td>\n",
       "      <td>$$</td>\n",
       "      <td>{'address1': '91 E 7th St', 'address2': None, ...</td>\n",
       "      <td>+16464906797</td>\n",
       "      <td>(646) 490-6797</td>\n",
       "      <td>2280.348538</td>\n",
       "    </tr>\n",
       "    <tr>\n",
       "      <th>1</th>\n",
       "      <td>H26qMBb0OFNn2xmSTM1Phw</td>\n",
       "      <td>kings-of-kobe-new-york-new-york-2</td>\n",
       "      <td>Kings of Kobe - New York</td>\n",
       "      <td>https://s3-media1.fl.yelpcdn.com/bphoto/E09YEC...</td>\n",
       "      <td>False</td>\n",
       "      <td>https://www.yelp.com/biz/kings-of-kobe-new-yor...</td>\n",
       "      <td>418</td>\n",
       "      <td>[{'alias': 'burgers', 'title': 'Burgers'}, {'a...</td>\n",
       "      <td>4.5</td>\n",
       "      <td>{'latitude': 40.761172, 'longitude': -74.000307}</td>\n",
       "      <td>[pickup, delivery]</td>\n",
       "      <td>$$</td>\n",
       "      <td>{'address1': '650 W 42nd St', 'address2': None...</td>\n",
       "      <td>+16463705121</td>\n",
       "      <td>(646) 370-5121</td>\n",
       "      <td>6283.378163</td>\n",
       "    </tr>\n",
       "    <tr>\n",
       "      <th>2</th>\n",
       "      <td>vTyC--4tl7_AzHqbFpCqPg</td>\n",
       "      <td>not-today-maybe-tomorrow-brooklyn</td>\n",
       "      <td>Not Today Maybe Tomorrow</td>\n",
       "      <td>https://s3-media2.fl.yelpcdn.com/bphoto/cUkl9d...</td>\n",
       "      <td>False</td>\n",
       "      <td>https://www.yelp.com/biz/not-today-maybe-tomor...</td>\n",
       "      <td>19</td>\n",
       "      <td>[{'alias': 'bars', 'title': 'Bars'}]</td>\n",
       "      <td>4.5</td>\n",
       "      <td>{'latitude': 40.714697, 'longitude': -73.944161}</td>\n",
       "      <td>[pickup, delivery]</td>\n",
       "      <td>NaN</td>\n",
       "      <td>{'address1': '749 Metropolitan Ave', 'address2...</td>\n",
       "      <td>+13477630591</td>\n",
       "      <td>(347) 763-0591</td>\n",
       "      <td>3080.401556</td>\n",
       "    </tr>\n",
       "    <tr>\n",
       "      <th>3</th>\n",
       "      <td>m86CNmYThtzzWB3nPnrhbg</td>\n",
       "      <td>emily-west-village-new-york</td>\n",
       "      <td>Emily - West Village</td>\n",
       "      <td>https://s3-media2.fl.yelpcdn.com/bphoto/6zPD8M...</td>\n",
       "      <td>False</td>\n",
       "      <td>https://www.yelp.com/biz/emily-west-village-ne...</td>\n",
       "      <td>944</td>\n",
       "      <td>[{'alias': 'pizza', 'title': 'Pizza'}, {'alias...</td>\n",
       "      <td>4.0</td>\n",
       "      <td>{'latitude': 40.729375015649076, 'longitude': ...</td>\n",
       "      <td>[pickup, delivery]</td>\n",
       "      <td>$$</td>\n",
       "      <td>{'address1': '35 Downing St', 'address2': '', ...</td>\n",
       "      <td>+19179356434</td>\n",
       "      <td>(917) 935-6434</td>\n",
       "      <td>3244.581130</td>\n",
       "    </tr>\n",
       "    <tr>\n",
       "      <th>4</th>\n",
       "      <td>UA2M9QFZghe-9th2KwLoWQ</td>\n",
       "      <td>burger-and-lobster-flatiron-nyc-new-york</td>\n",
       "      <td>Burger &amp; Lobster - Flatiron NYC</td>\n",
       "      <td>https://s3-media1.fl.yelpcdn.com/bphoto/2Z3Cn2...</td>\n",
       "      <td>False</td>\n",
       "      <td>https://www.yelp.com/biz/burger-and-lobster-fl...</td>\n",
       "      <td>5866</td>\n",
       "      <td>[{'alias': 'seafood', 'title': 'Seafood'}, {'a...</td>\n",
       "      <td>4.0</td>\n",
       "      <td>{'latitude': 40.74007, 'longitude': -73.99344}</td>\n",
       "      <td>[pickup, delivery]</td>\n",
       "      <td>$$</td>\n",
       "      <td>{'address1': '39 W 19th St', 'address2': '', '...</td>\n",
       "      <td>+16468337532</td>\n",
       "      <td>(646) 833-7532</td>\n",
       "      <td>3867.245488</td>\n",
       "    </tr>\n",
       "  </tbody>\n",
       "</table>\n",
       "</div>"
      ],
      "text/plain": [
       "                       id                                     alias  \\\n",
       "0  8xpGj_YkI2X6QxqXUJPw7g                7th-street-burger-new-york   \n",
       "1  H26qMBb0OFNn2xmSTM1Phw         kings-of-kobe-new-york-new-york-2   \n",
       "2  vTyC--4tl7_AzHqbFpCqPg         not-today-maybe-tomorrow-brooklyn   \n",
       "3  m86CNmYThtzzWB3nPnrhbg               emily-west-village-new-york   \n",
       "4  UA2M9QFZghe-9th2KwLoWQ  burger-and-lobster-flatiron-nyc-new-york   \n",
       "\n",
       "                              name  \\\n",
       "0                7th Street Burger   \n",
       "1         Kings of Kobe - New York   \n",
       "2         Not Today Maybe Tomorrow   \n",
       "3             Emily - West Village   \n",
       "4  Burger & Lobster - Flatiron NYC   \n",
       "\n",
       "                                           image_url  is_closed  \\\n",
       "0  https://s3-media2.fl.yelpcdn.com/bphoto/GYqi52...      False   \n",
       "1  https://s3-media1.fl.yelpcdn.com/bphoto/E09YEC...      False   \n",
       "2  https://s3-media2.fl.yelpcdn.com/bphoto/cUkl9d...      False   \n",
       "3  https://s3-media2.fl.yelpcdn.com/bphoto/6zPD8M...      False   \n",
       "4  https://s3-media1.fl.yelpcdn.com/bphoto/2Z3Cn2...      False   \n",
       "\n",
       "                                                 url  review_count  \\\n",
       "0  https://www.yelp.com/biz/7th-street-burger-new...           267   \n",
       "1  https://www.yelp.com/biz/kings-of-kobe-new-yor...           418   \n",
       "2  https://www.yelp.com/biz/not-today-maybe-tomor...            19   \n",
       "3  https://www.yelp.com/biz/emily-west-village-ne...           944   \n",
       "4  https://www.yelp.com/biz/burger-and-lobster-fl...          5866   \n",
       "\n",
       "                                          categories  rating  \\\n",
       "0         [{'alias': 'burgers', 'title': 'Burgers'}]     4.5   \n",
       "1  [{'alias': 'burgers', 'title': 'Burgers'}, {'a...     4.5   \n",
       "2               [{'alias': 'bars', 'title': 'Bars'}]     4.5   \n",
       "3  [{'alias': 'pizza', 'title': 'Pizza'}, {'alias...     4.0   \n",
       "4  [{'alias': 'seafood', 'title': 'Seafood'}, {'a...     4.0   \n",
       "\n",
       "                                         coordinates        transactions  \\\n",
       "0     {'latitude': 40.72697, 'longitude': -73.98546}  [pickup, delivery]   \n",
       "1   {'latitude': 40.761172, 'longitude': -74.000307}  [pickup, delivery]   \n",
       "2   {'latitude': 40.714697, 'longitude': -73.944161}  [pickup, delivery]   \n",
       "3  {'latitude': 40.729375015649076, 'longitude': ...  [pickup, delivery]   \n",
       "4     {'latitude': 40.74007, 'longitude': -73.99344}  [pickup, delivery]   \n",
       "\n",
       "  price                                           location         phone  \\\n",
       "0    $$  {'address1': '91 E 7th St', 'address2': None, ...  +16464906797   \n",
       "1    $$  {'address1': '650 W 42nd St', 'address2': None...  +16463705121   \n",
       "2   NaN  {'address1': '749 Metropolitan Ave', 'address2...  +13477630591   \n",
       "3    $$  {'address1': '35 Downing St', 'address2': '', ...  +19179356434   \n",
       "4    $$  {'address1': '39 W 19th St', 'address2': '', '...  +16468337532   \n",
       "\n",
       "    display_phone     distance  \n",
       "0  (646) 490-6797  2280.348538  \n",
       "1  (646) 370-5121  6283.378163  \n",
       "2  (347) 763-0591  3080.401556  \n",
       "3  (917) 935-6434  3244.581130  \n",
       "4  (646) 833-7532  3867.245488  "
      ]
     },
     "metadata": {},
     "output_type": "display_data"
    },
    {
     "data": {
      "text/html": [
       "<div>\n",
       "<style scoped>\n",
       "    .dataframe tbody tr th:only-of-type {\n",
       "        vertical-align: middle;\n",
       "    }\n",
       "\n",
       "    .dataframe tbody tr th {\n",
       "        vertical-align: top;\n",
       "    }\n",
       "\n",
       "    .dataframe thead th {\n",
       "        text-align: right;\n",
       "    }\n",
       "</style>\n",
       "<table border=\"1\" class=\"dataframe\">\n",
       "  <thead>\n",
       "    <tr style=\"text-align: right;\">\n",
       "      <th></th>\n",
       "      <th>id</th>\n",
       "      <th>alias</th>\n",
       "      <th>name</th>\n",
       "      <th>image_url</th>\n",
       "      <th>is_closed</th>\n",
       "      <th>url</th>\n",
       "      <th>review_count</th>\n",
       "      <th>categories</th>\n",
       "      <th>rating</th>\n",
       "      <th>coordinates</th>\n",
       "      <th>transactions</th>\n",
       "      <th>price</th>\n",
       "      <th>location</th>\n",
       "      <th>phone</th>\n",
       "      <th>display_phone</th>\n",
       "      <th>distance</th>\n",
       "    </tr>\n",
       "  </thead>\n",
       "  <tbody>\n",
       "    <tr>\n",
       "      <th>15</th>\n",
       "      <td>BCwSqk9WY5woPkWEkvWkMg</td>\n",
       "      <td>bronsons-burgers-new-york</td>\n",
       "      <td>Bronson's Burgers</td>\n",
       "      <td>https://s3-media1.fl.yelpcdn.com/bphoto/ukIdYP...</td>\n",
       "      <td>False</td>\n",
       "      <td>https://www.yelp.com/biz/bronsons-burgers-new-...</td>\n",
       "      <td>51</td>\n",
       "      <td>[{'alias': 'burgers', 'title': 'Burgers'}]</td>\n",
       "      <td>4.5</td>\n",
       "      <td>{'latitude': 40.72317, 'longitude': -73.99568}</td>\n",
       "      <td>[]</td>\n",
       "      <td>$$</td>\n",
       "      <td>{'address1': '250 Mulberry St', 'address2': ''...</td>\n",
       "      <td>+12128886280</td>\n",
       "      <td>(212) 888-6280</td>\n",
       "      <td>2277.702132</td>\n",
       "    </tr>\n",
       "    <tr>\n",
       "      <th>16</th>\n",
       "      <td>ruYQv7KVDvmWSF82sM3ZhQ</td>\n",
       "      <td>milk-burger-new-york-2</td>\n",
       "      <td>Milk Burger</td>\n",
       "      <td>https://s3-media3.fl.yelpcdn.com/bphoto/aV3_jG...</td>\n",
       "      <td>False</td>\n",
       "      <td>https://www.yelp.com/biz/milk-burger-new-york-...</td>\n",
       "      <td>13</td>\n",
       "      <td>[{'alias': 'burgers', 'title': 'Burgers'}, {'a...</td>\n",
       "      <td>4.0</td>\n",
       "      <td>{'latitude': 40.72095, 'longitude': -73.9829}</td>\n",
       "      <td>[pickup, delivery]</td>\n",
       "      <td>NaN</td>\n",
       "      <td>{'address1': '321 E Houston St', 'address2': '...</td>\n",
       "      <td>+12123601988</td>\n",
       "      <td>(212) 360-1988</td>\n",
       "      <td>1586.576743</td>\n",
       "    </tr>\n",
       "    <tr>\n",
       "      <th>17</th>\n",
       "      <td>qOp4T7UxfL6MgO41dN3Qlg</td>\n",
       "      <td>whitmans-new-york</td>\n",
       "      <td>Whitmans</td>\n",
       "      <td>https://s3-media2.fl.yelpcdn.com/bphoto/IZ47pj...</td>\n",
       "      <td>False</td>\n",
       "      <td>https://www.yelp.com/biz/whitmans-new-york?adj...</td>\n",
       "      <td>674</td>\n",
       "      <td>[{'alias': 'burgers', 'title': 'Burgers'}, {'a...</td>\n",
       "      <td>4.0</td>\n",
       "      <td>{'latitude': 40.727942, 'longitude': -73.984469}</td>\n",
       "      <td>[pickup, delivery]</td>\n",
       "      <td>$$</td>\n",
       "      <td>{'address1': '406 E 9th St', 'address2': '', '...</td>\n",
       "      <td>+19172612858</td>\n",
       "      <td>(917) 261-2858</td>\n",
       "      <td>2373.243836</td>\n",
       "    </tr>\n",
       "    <tr>\n",
       "      <th>18</th>\n",
       "      <td>uYLIo8FCr9Ug5SFORDdsPA</td>\n",
       "      <td>the-burgary-new-york</td>\n",
       "      <td>The Burgary</td>\n",
       "      <td>https://s3-media4.fl.yelpcdn.com/bphoto/X9GgkF...</td>\n",
       "      <td>False</td>\n",
       "      <td>https://www.yelp.com/biz/the-burgary-new-york?...</td>\n",
       "      <td>300</td>\n",
       "      <td>[{'alias': 'burgers', 'title': 'Burgers'}]</td>\n",
       "      <td>4.0</td>\n",
       "      <td>{'latitude': 40.71944096840517, 'longitude': -...</td>\n",
       "      <td>[pickup, delivery]</td>\n",
       "      <td>$$</td>\n",
       "      <td>{'address1': '67 Clinton St', 'address2': '', ...</td>\n",
       "      <td>+12125296900</td>\n",
       "      <td>(212) 529-6900</td>\n",
       "      <td>1472.731131</td>\n",
       "    </tr>\n",
       "    <tr>\n",
       "      <th>19</th>\n",
       "      <td>nnMEtKLL0lyaXyXACRkVEQ</td>\n",
       "      <td>no-7-brooklyn-3</td>\n",
       "      <td>no. 7</td>\n",
       "      <td>https://s3-media2.fl.yelpcdn.com/bphoto/si-Vh_...</td>\n",
       "      <td>False</td>\n",
       "      <td>https://www.yelp.com/biz/no-7-brooklyn-3?adjus...</td>\n",
       "      <td>8</td>\n",
       "      <td>[{'alias': 'newamerican', 'title': 'American (...</td>\n",
       "      <td>4.0</td>\n",
       "      <td>{'latitude': 40.67831, 'longitude': -73.96843}</td>\n",
       "      <td>[]</td>\n",
       "      <td>NaN</td>\n",
       "      <td>{'address1': '627 Vanderbilt Ave', 'address2':...</td>\n",
       "      <td></td>\n",
       "      <td></td>\n",
       "      <td>3314.736877</td>\n",
       "    </tr>\n",
       "  </tbody>\n",
       "</table>\n",
       "</div>"
      ],
      "text/plain": [
       "                        id                      alias               name  \\\n",
       "15  BCwSqk9WY5woPkWEkvWkMg  bronsons-burgers-new-york  Bronson's Burgers   \n",
       "16  ruYQv7KVDvmWSF82sM3ZhQ     milk-burger-new-york-2        Milk Burger   \n",
       "17  qOp4T7UxfL6MgO41dN3Qlg          whitmans-new-york           Whitmans   \n",
       "18  uYLIo8FCr9Ug5SFORDdsPA       the-burgary-new-york        The Burgary   \n",
       "19  nnMEtKLL0lyaXyXACRkVEQ            no-7-brooklyn-3              no. 7   \n",
       "\n",
       "                                            image_url  is_closed  \\\n",
       "15  https://s3-media1.fl.yelpcdn.com/bphoto/ukIdYP...      False   \n",
       "16  https://s3-media3.fl.yelpcdn.com/bphoto/aV3_jG...      False   \n",
       "17  https://s3-media2.fl.yelpcdn.com/bphoto/IZ47pj...      False   \n",
       "18  https://s3-media4.fl.yelpcdn.com/bphoto/X9GgkF...      False   \n",
       "19  https://s3-media2.fl.yelpcdn.com/bphoto/si-Vh_...      False   \n",
       "\n",
       "                                                  url  review_count  \\\n",
       "15  https://www.yelp.com/biz/bronsons-burgers-new-...            51   \n",
       "16  https://www.yelp.com/biz/milk-burger-new-york-...            13   \n",
       "17  https://www.yelp.com/biz/whitmans-new-york?adj...           674   \n",
       "18  https://www.yelp.com/biz/the-burgary-new-york?...           300   \n",
       "19  https://www.yelp.com/biz/no-7-brooklyn-3?adjus...             8   \n",
       "\n",
       "                                           categories  rating  \\\n",
       "15         [{'alias': 'burgers', 'title': 'Burgers'}]     4.5   \n",
       "16  [{'alias': 'burgers', 'title': 'Burgers'}, {'a...     4.0   \n",
       "17  [{'alias': 'burgers', 'title': 'Burgers'}, {'a...     4.0   \n",
       "18         [{'alias': 'burgers', 'title': 'Burgers'}]     4.0   \n",
       "19  [{'alias': 'newamerican', 'title': 'American (...     4.0   \n",
       "\n",
       "                                          coordinates        transactions  \\\n",
       "15     {'latitude': 40.72317, 'longitude': -73.99568}                  []   \n",
       "16      {'latitude': 40.72095, 'longitude': -73.9829}  [pickup, delivery]   \n",
       "17   {'latitude': 40.727942, 'longitude': -73.984469}  [pickup, delivery]   \n",
       "18  {'latitude': 40.71944096840517, 'longitude': -...  [pickup, delivery]   \n",
       "19     {'latitude': 40.67831, 'longitude': -73.96843}                  []   \n",
       "\n",
       "   price                                           location         phone  \\\n",
       "15    $$  {'address1': '250 Mulberry St', 'address2': ''...  +12128886280   \n",
       "16   NaN  {'address1': '321 E Houston St', 'address2': '...  +12123601988   \n",
       "17    $$  {'address1': '406 E 9th St', 'address2': '', '...  +19172612858   \n",
       "18    $$  {'address1': '67 Clinton St', 'address2': '', ...  +12125296900   \n",
       "19   NaN  {'address1': '627 Vanderbilt Ave', 'address2':...                 \n",
       "\n",
       "     display_phone     distance  \n",
       "15  (212) 888-6280  2277.702132  \n",
       "16  (212) 360-1988  1586.576743  \n",
       "17  (917) 261-2858  2373.243836  \n",
       "18  (212) 529-6900  1472.731131  \n",
       "19                  3314.736877  "
      ]
     },
     "metadata": {},
     "output_type": "display_data"
    }
   ],
   "source": [
    "# load final results\n",
    "final_df = pd.read_json(JSON_FILE)\n",
    "display(final_df.head(), final_df.tail())"
   ]
  },
  {
   "cell_type": "code",
   "execution_count": 14,
   "id": "8536d389",
   "metadata": {},
   "outputs": [
    {
     "data": {
      "text/plain": [
       "0"
      ]
     },
     "execution_count": 14,
     "metadata": {},
     "output_type": "execute_result"
    }
   ],
   "source": [
    "# check for duplicate ID's \n",
    "final_df.duplicated(subset='id').sum()"
   ]
  },
  {
   "cell_type": "code",
   "execution_count": 15,
   "id": "b850142e",
   "metadata": {},
   "outputs": [],
   "source": [
    "# save the final results to a compressed csv\n",
    "final_df.to_csv('Data/final_results_NY_burger.csv.gz', compression='gzip',index=False)"
   ]
  }
 ],
 "metadata": {
  "kernelspec": {
   "display_name": "Python (dojo-env)",
   "language": "python",
   "name": "dojo-env"
  },
  "language_info": {
   "codemirror_mode": {
    "name": "ipython",
    "version": 3
   },
   "file_extension": ".py",
   "mimetype": "text/x-python",
   "name": "python",
   "nbconvert_exporter": "python",
   "pygments_lexer": "ipython3",
   "version": "3.9.15"
  },
  "toc": {
   "base_numbering": 1,
   "nav_menu": {},
   "number_sections": false,
   "sideBar": true,
   "skip_h1_title": false,
   "title_cell": "Table of Contents",
   "title_sidebar": "Contents",
   "toc_cell": false,
   "toc_position": {},
   "toc_section_display": true,
   "toc_window_display": false
  }
 },
 "nbformat": 4,
 "nbformat_minor": 5
}
