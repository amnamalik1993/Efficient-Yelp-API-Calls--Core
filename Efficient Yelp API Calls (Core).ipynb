{
 "cells": [
  {
   "cell_type": "code",
   "execution_count": 1,
   "id": "696555cf",
   "metadata": {},
   "outputs": [],
   "source": [
    "# Standard Imports\n",
    "import numpy as np\n",
    "import pandas as pd\n",
    "import matplotlib.pyplot as plt\n",
    "import seaborn as sns\n",
    "\n",
    "# Additional Imports\n",
    "import os, json, math, time\n",
    "from yelpapi import YelpAPI\n",
    "from tqdm.notebook import tqdm_notebook"
   ]
  },
  {
   "cell_type": "code",
   "execution_count": 2,
   "id": "6453e39d",
   "metadata": {},
   "outputs": [],
   "source": [
    "with open('/Users/amnam/.secret/yelp_api.json') as f:\n",
    "    login = json.load(f)\n",
    "\n",
    "yelp_api = YelpAPI(login['api-key'], timeout_s=5.0)\n"
   ]
  },
  {
   "cell_type": "code",
   "execution_count": 3,
   "id": "513091ba",
   "metadata": {},
   "outputs": [],
   "source": [
    "# set our API call parameters \n",
    "LOCATION = 'Dearborn,MI'\n",
    "TERM = 'Fried Chicken'"
   ]
  },
  {
   "cell_type": "code",
   "execution_count": 4,
   "id": "8d738f02",
   "metadata": {},
   "outputs": [
    {
     "data": {
      "text/plain": [
       "'Data/results_in_progress_MI_firedchicken.json'"
      ]
     },
     "execution_count": 4,
     "metadata": {},
     "output_type": "execute_result"
    }
   ],
   "source": [
    "JSON_FILE = \"Data/results_in_progress_MI_firedchicken.json\"\n",
    "JSON_FILE"
   ]
  },
  {
   "cell_type": "code",
   "execution_count": 5,
   "id": "00dfd36e",
   "metadata": {},
   "outputs": [
    {
     "name": "stdout",
     "output_type": "stream",
     "text": [
      "[i] Data/results_in_progress_MI_firedchicken.json already exists.\n"
     ]
    }
   ],
   "source": [
    "## Check if JSON_FILE exists\n",
    "file_exists = os.path.isfile(JSON_FILE)\n",
    "## If it does not exist: \n",
    "if file_exists == False:\n",
    "    \n",
    "    ## CREATE ANY NEEDED FOLDERS\n",
    "    # Get the Folder Name only\n",
    "    folder = os.path.dirname(JSON_FILE)\n",
    "    ## If JSON_FILE included a folder:\n",
    "    if len(folder)>0:\n",
    "        # create the folder\n",
    "        os.makedirs(folder,exist_ok=True)\n",
    "        \n",
    "        \n",
    "    ## INFORM USER AND SAVE EMPTY LIST\n",
    "    print(f'[i] {JSON_FILE} not found. Saving empty list to file.')\n",
    "    \n",
    "    \n",
    "    # save an empty list\n",
    "    with open(JSON_FILE,'w') as f:\n",
    "        json.dump([],f)  \n",
    "# If it exists, inform user\n",
    "else:\n",
    "    print(f\"[i] {JSON_FILE} already exists.\")"
   ]
  },
  {
   "cell_type": "code",
   "execution_count": 11,
   "id": "128c9bee",
   "metadata": {},
   "outputs": [],
   "source": [
    "def create_json_file(JSON_FILE, delete_if_exists=False):\n",
    "    # Check if JSON_FILE exists\n",
    "    file_exists = os.path.isfile(JSON_FILE)\n",
    "    # If it DOES exist\n",
    "    if file_exists == True:\n",
    "        # Check if user wants to delete if exists\n",
    "        if delete_if_exists==True:\n",
    "            print(f\"[!] {JSON_FILE} already exists. Deleting previous file...\")\n",
    "            # Delete file and confirm it no longer exists\n",
    "            os.remove(JSON_FILE)\n",
    "            # Recursuve call to function after old file is deleted\n",
    "            create_json_file(JSON_FILE,delete_if_exists=False)\n",
    "        else:\n",
    "            print(f\"[i] {JSON_FILE} already exists.\")\n",
    "    # If it does NOT exist\n",
    "    else:\n",
    "        # INFORM USER AND SAVE EMPTY LIST\n",
    "        print(f\"[i] {JSON_FILE} not found. Saving empty list to new file.\")\n",
    "        # CREATE ANY NEEDED FOLDERS\n",
    "        # Get the FOLDER NAME only\n",
    "        folder = os.path.dirname(JSON_FILE)\n",
    "        # If JSON_FILE included a folder:\n",
    "        if len(folder)>0:\n",
    "            # Create the folder\n",
    "            os.makedirs(folder,exist_ok=True)\n",
    "            # Save empty list to start the JSON_FILE\n",
    "            with open(JSON_FILE, 'w') as f:\n",
    "                json.dump([],f)"
   ]
  },
  {
   "cell_type": "code",
   "execution_count": 12,
   "id": "f3968eec",
   "metadata": {},
   "outputs": [
    {
     "name": "stdout",
     "output_type": "stream",
     "text": [
      "[!] Data/results_in_progress_MI_firedchicken.json already exists. Deleting previous file...\n",
      "[i] Data/results_in_progress_MI_firedchicken.json not found. Saving empty list to new file.\n",
      "- 0 previous results found.\n"
     ]
    }
   ],
   "source": [
    "## Create a new empty json file (exist the previous if it exists)\n",
    "create_json_file(JSON_FILE, delete_if_exists=True)\n",
    "## Load previous results and use len of results for offset\n",
    "with open(JSON_FILE,'r') as f:\n",
    "    previous_results = json.load(f)\n",
    "    \n",
    "## set offset based on previous results\n",
    "n_results = len(previous_results)\n",
    "print(f'- {n_results} previous results found.')\n",
    "# use our yelp_api variable's search_query method to perform our API call\n",
    "results = yelp_api.search_query(location=LOCATION,\n",
    "                                term=TERM,\n",
    "                               offset=n_results)"
   ]
  },
  {
   "cell_type": "code",
   "execution_count": 14,
   "id": "812cac51",
   "metadata": {},
   "outputs": [
    {
     "data": {
      "text/plain": [
       "567"
      ]
     },
     "execution_count": 14,
     "metadata": {},
     "output_type": "execute_result"
    }
   ],
   "source": [
    "## How many results total?\n",
    "total_results = results['total']\n",
    "total_results"
   ]
  },
  {
   "cell_type": "code",
   "execution_count": 8,
   "id": "f48727b6",
   "metadata": {},
   "outputs": [
    {
     "data": {
      "text/plain": [
       "567"
      ]
     },
     "execution_count": 8,
     "metadata": {},
     "output_type": "execute_result"
    }
   ],
   "source": [
    "## How many results total?\n",
    "total_results = results['total']\n",
    "total_results"
   ]
  },
  {
   "cell_type": "code",
   "execution_count": 15,
   "id": "c23bc02e",
   "metadata": {},
   "outputs": [
    {
     "data": {
      "text/plain": [
       "20"
      ]
     },
     "execution_count": 15,
     "metadata": {},
     "output_type": "execute_result"
    }
   ],
   "source": [
    "## How many did we get the details for?\n",
    "results_per_page = len(results['businesses'])\n",
    "results_per_page"
   ]
  },
  {
   "cell_type": "code",
   "execution_count": 16,
   "id": "c2401e44",
   "metadata": {},
   "outputs": [
    {
     "data": {
      "text/plain": [
       "29"
      ]
     },
     "execution_count": 16,
     "metadata": {},
     "output_type": "execute_result"
    }
   ],
   "source": [
    "# Import additional packages for controlling our loop\n",
    "import time, math\n",
    "# Use math.ceil to round up for the total number of pages of results.\n",
    "n_pages = math.ceil((results['total']-n_results)/ results_per_page)\n",
    "n_pages"
   ]
  },
  {
   "cell_type": "code",
   "execution_count": 17,
   "id": "cceaa7ed",
   "metadata": {},
   "outputs": [
    {
     "data": {
      "application/vnd.jupyter.widget-view+json": {
       "model_id": "f1c28ec0670142ce8c7b8bbfc7695317",
       "version_major": 2,
       "version_minor": 0
      },
      "text/plain": [
       "  0%|          | 0/29 [00:00<?, ?it/s]"
      ]
     },
     "metadata": {},
     "output_type": "display_data"
    }
   ],
   "source": [
    "for i in tqdm_notebook( range(1,n_pages+1)):\n",
    "    \n",
    "    ## Read in results in progress file and check the length\n",
    "    with open(JSON_FILE, 'r') as f:\n",
    "        previous_results = json.load(f)\n",
    "    ## save number of results for to use as offset\n",
    "    n_results = len(previous_results)\n",
    "    \n",
    "    if (n_results + results_per_page) > 1000:\n",
    "        print('Exceeded 1000 api calls. Stopping loop.')\n",
    "        break\n",
    "    \n",
    "    ## use n_results as the OFFSET \n",
    "    results = yelp_api.search_query(location=LOCATION,\n",
    "                                    term=TERM, \n",
    "                                    offset=n_results)\n",
    "    \n",
    "    \n",
    "    \n",
    "    ## append new results and save to file\n",
    "    previous_results.extend(results['businesses'])\n",
    "    \n",
    "    # display(previous_results)\n",
    "    with open(JSON_FILE,'w') as f:\n",
    "        json.dump(previous_results,f)\n",
    "    \n",
    "    time.sleep(.2)"
   ]
  },
  {
   "cell_type": "code",
   "execution_count": 18,
   "id": "2904ce02",
   "metadata": {},
   "outputs": [
    {
     "data": {
      "text/html": [
       "<div>\n",
       "<style scoped>\n",
       "    .dataframe tbody tr th:only-of-type {\n",
       "        vertical-align: middle;\n",
       "    }\n",
       "\n",
       "    .dataframe tbody tr th {\n",
       "        vertical-align: top;\n",
       "    }\n",
       "\n",
       "    .dataframe thead th {\n",
       "        text-align: right;\n",
       "    }\n",
       "</style>\n",
       "<table border=\"1\" class=\"dataframe\">\n",
       "  <thead>\n",
       "    <tr style=\"text-align: right;\">\n",
       "      <th></th>\n",
       "      <th>id</th>\n",
       "      <th>alias</th>\n",
       "      <th>name</th>\n",
       "      <th>image_url</th>\n",
       "      <th>is_closed</th>\n",
       "      <th>url</th>\n",
       "      <th>review_count</th>\n",
       "      <th>categories</th>\n",
       "      <th>rating</th>\n",
       "      <th>coordinates</th>\n",
       "      <th>transactions</th>\n",
       "      <th>price</th>\n",
       "      <th>location</th>\n",
       "      <th>phone</th>\n",
       "      <th>display_phone</th>\n",
       "      <th>distance</th>\n",
       "    </tr>\n",
       "  </thead>\n",
       "  <tbody>\n",
       "    <tr>\n",
       "      <th>0</th>\n",
       "      <td>Cu3KC6x3WUFTzcz32TkbfA</td>\n",
       "      <td>ex-wifes-famous-chicken-dearborn-heights</td>\n",
       "      <td>Ex-Wife's Famous Chicken</td>\n",
       "      <td>https://s3-media4.fl.yelpcdn.com/bphoto/zuWl_g...</td>\n",
       "      <td>False</td>\n",
       "      <td>https://www.yelp.com/biz/ex-wifes-famous-chick...</td>\n",
       "      <td>48</td>\n",
       "      <td>[{'alias': 'hotdogs', 'title': 'Fast Food'}, {...</td>\n",
       "      <td>4.0</td>\n",
       "      <td>{'latitude': 42.32736, 'longitude': -83.25863}</td>\n",
       "      <td>[]</td>\n",
       "      <td>$$</td>\n",
       "      <td>{'address1': '22444 Ford Rd', 'address2': None...</td>\n",
       "      <td>+13138801180</td>\n",
       "      <td>(313) 880-1180</td>\n",
       "      <td>4003.498796</td>\n",
       "    </tr>\n",
       "    <tr>\n",
       "      <th>1</th>\n",
       "      <td>7orZgupOKK9I7fYekdhIhA</td>\n",
       "      <td>daves-hot-chicken-dearborn</td>\n",
       "      <td>Dave's Hot Chicken</td>\n",
       "      <td>https://s3-media2.fl.yelpcdn.com/bphoto/QAKdyn...</td>\n",
       "      <td>False</td>\n",
       "      <td>https://www.yelp.com/biz/daves-hot-chicken-dea...</td>\n",
       "      <td>89</td>\n",
       "      <td>[{'alias': 'halal', 'title': 'Halal'}, {'alias...</td>\n",
       "      <td>4.0</td>\n",
       "      <td>{'latitude': 42.30547, 'longitude': -83.2485}</td>\n",
       "      <td>[delivery, pickup]</td>\n",
       "      <td>$$</td>\n",
       "      <td>{'address1': '22208 Michigan Ave', 'address2':...</td>\n",
       "      <td>+13133800699</td>\n",
       "      <td>(313) 380-0699</td>\n",
       "      <td>3046.090322</td>\n",
       "    </tr>\n",
       "    <tr>\n",
       "      <th>2</th>\n",
       "      <td>CYj6Xynv7CwUZPSYoUzCVw</td>\n",
       "      <td>mr-chicken-dearborn-heights</td>\n",
       "      <td>Mr Chicken</td>\n",
       "      <td>https://s3-media3.fl.yelpcdn.com/bphoto/tq_4J1...</td>\n",
       "      <td>False</td>\n",
       "      <td>https://www.yelp.com/biz/mr-chicken-dearborn-h...</td>\n",
       "      <td>92</td>\n",
       "      <td>[{'alias': 'tradamerican', 'title': 'American ...</td>\n",
       "      <td>4.0</td>\n",
       "      <td>{'latitude': 42.33103, 'longitude': -83.27218}</td>\n",
       "      <td>[delivery]</td>\n",
       "      <td>$$</td>\n",
       "      <td>{'address1': '6000 N Telegraph Rd', 'address2'...</td>\n",
       "      <td>+13132770100</td>\n",
       "      <td>(313) 277-0100</td>\n",
       "      <td>5204.792531</td>\n",
       "    </tr>\n",
       "    <tr>\n",
       "      <th>3</th>\n",
       "      <td>H-Ek50bSn5KCBQ1_tVmQAA</td>\n",
       "      <td>gus-world-famous-fried-chicken-westland</td>\n",
       "      <td>Gus' World Famous Fried Chicken</td>\n",
       "      <td>https://s3-media4.fl.yelpcdn.com/bphoto/Lr2s0W...</td>\n",
       "      <td>False</td>\n",
       "      <td>https://www.yelp.com/biz/gus-world-famous-frie...</td>\n",
       "      <td>296</td>\n",
       "      <td>[{'alias': 'southern', 'title': 'Southern'}, {...</td>\n",
       "      <td>4.0</td>\n",
       "      <td>{'latitude': 42.32409, 'longitude': -83.39072}</td>\n",
       "      <td>[delivery, pickup]</td>\n",
       "      <td>$$</td>\n",
       "      <td>{'address1': '35505 Ford Rd', 'address2': '', ...</td>\n",
       "      <td>+17347286170</td>\n",
       "      <td>(734) 728-6170</td>\n",
       "      <td>14632.818763</td>\n",
       "    </tr>\n",
       "    <tr>\n",
       "      <th>4</th>\n",
       "      <td>ejoVEHzo2b0VNpa90uK44g</td>\n",
       "      <td>fat-daddys-hot-chicken-and-waffles-riverview</td>\n",
       "      <td>Fat Daddy's Hot Chicken &amp; Waffles</td>\n",
       "      <td>https://s3-media1.fl.yelpcdn.com/bphoto/u_LlbE...</td>\n",
       "      <td>False</td>\n",
       "      <td>https://www.yelp.com/biz/fat-daddys-hot-chicke...</td>\n",
       "      <td>139</td>\n",
       "      <td>[{'alias': 'waffles', 'title': 'Waffles'}, {'a...</td>\n",
       "      <td>4.5</td>\n",
       "      <td>{'latitude': 42.174526, 'longitude': -83.188452}</td>\n",
       "      <td>[delivery, pickup]</td>\n",
       "      <td>NaN</td>\n",
       "      <td>{'address1': '18283 Fort St', 'address2': '', ...</td>\n",
       "      <td>+17342883051</td>\n",
       "      <td>(734) 288-3051</td>\n",
       "      <td>15678.060298</td>\n",
       "    </tr>\n",
       "  </tbody>\n",
       "</table>\n",
       "</div>"
      ],
      "text/plain": [
       "                       id                                         alias  \\\n",
       "0  Cu3KC6x3WUFTzcz32TkbfA      ex-wifes-famous-chicken-dearborn-heights   \n",
       "1  7orZgupOKK9I7fYekdhIhA                    daves-hot-chicken-dearborn   \n",
       "2  CYj6Xynv7CwUZPSYoUzCVw                   mr-chicken-dearborn-heights   \n",
       "3  H-Ek50bSn5KCBQ1_tVmQAA       gus-world-famous-fried-chicken-westland   \n",
       "4  ejoVEHzo2b0VNpa90uK44g  fat-daddys-hot-chicken-and-waffles-riverview   \n",
       "\n",
       "                                name  \\\n",
       "0           Ex-Wife's Famous Chicken   \n",
       "1                 Dave's Hot Chicken   \n",
       "2                         Mr Chicken   \n",
       "3    Gus' World Famous Fried Chicken   \n",
       "4  Fat Daddy's Hot Chicken & Waffles   \n",
       "\n",
       "                                           image_url  is_closed  \\\n",
       "0  https://s3-media4.fl.yelpcdn.com/bphoto/zuWl_g...      False   \n",
       "1  https://s3-media2.fl.yelpcdn.com/bphoto/QAKdyn...      False   \n",
       "2  https://s3-media3.fl.yelpcdn.com/bphoto/tq_4J1...      False   \n",
       "3  https://s3-media4.fl.yelpcdn.com/bphoto/Lr2s0W...      False   \n",
       "4  https://s3-media1.fl.yelpcdn.com/bphoto/u_LlbE...      False   \n",
       "\n",
       "                                                 url  review_count  \\\n",
       "0  https://www.yelp.com/biz/ex-wifes-famous-chick...            48   \n",
       "1  https://www.yelp.com/biz/daves-hot-chicken-dea...            89   \n",
       "2  https://www.yelp.com/biz/mr-chicken-dearborn-h...            92   \n",
       "3  https://www.yelp.com/biz/gus-world-famous-frie...           296   \n",
       "4  https://www.yelp.com/biz/fat-daddys-hot-chicke...           139   \n",
       "\n",
       "                                          categories  rating  \\\n",
       "0  [{'alias': 'hotdogs', 'title': 'Fast Food'}, {...     4.0   \n",
       "1  [{'alias': 'halal', 'title': 'Halal'}, {'alias...     4.0   \n",
       "2  [{'alias': 'tradamerican', 'title': 'American ...     4.0   \n",
       "3  [{'alias': 'southern', 'title': 'Southern'}, {...     4.0   \n",
       "4  [{'alias': 'waffles', 'title': 'Waffles'}, {'a...     4.5   \n",
       "\n",
       "                                        coordinates        transactions price  \\\n",
       "0    {'latitude': 42.32736, 'longitude': -83.25863}                  []    $$   \n",
       "1     {'latitude': 42.30547, 'longitude': -83.2485}  [delivery, pickup]    $$   \n",
       "2    {'latitude': 42.33103, 'longitude': -83.27218}          [delivery]    $$   \n",
       "3    {'latitude': 42.32409, 'longitude': -83.39072}  [delivery, pickup]    $$   \n",
       "4  {'latitude': 42.174526, 'longitude': -83.188452}  [delivery, pickup]   NaN   \n",
       "\n",
       "                                            location         phone  \\\n",
       "0  {'address1': '22444 Ford Rd', 'address2': None...  +13138801180   \n",
       "1  {'address1': '22208 Michigan Ave', 'address2':...  +13133800699   \n",
       "2  {'address1': '6000 N Telegraph Rd', 'address2'...  +13132770100   \n",
       "3  {'address1': '35505 Ford Rd', 'address2': '', ...  +17347286170   \n",
       "4  {'address1': '18283 Fort St', 'address2': '', ...  +17342883051   \n",
       "\n",
       "    display_phone      distance  \n",
       "0  (313) 880-1180   4003.498796  \n",
       "1  (313) 380-0699   3046.090322  \n",
       "2  (313) 277-0100   5204.792531  \n",
       "3  (734) 728-6170  14632.818763  \n",
       "4  (734) 288-3051  15678.060298  "
      ]
     },
     "metadata": {},
     "output_type": "display_data"
    },
    {
     "data": {
      "text/html": [
       "<div>\n",
       "<style scoped>\n",
       "    .dataframe tbody tr th:only-of-type {\n",
       "        vertical-align: middle;\n",
       "    }\n",
       "\n",
       "    .dataframe tbody tr th {\n",
       "        vertical-align: top;\n",
       "    }\n",
       "\n",
       "    .dataframe thead th {\n",
       "        text-align: right;\n",
       "    }\n",
       "</style>\n",
       "<table border=\"1\" class=\"dataframe\">\n",
       "  <thead>\n",
       "    <tr style=\"text-align: right;\">\n",
       "      <th></th>\n",
       "      <th>id</th>\n",
       "      <th>alias</th>\n",
       "      <th>name</th>\n",
       "      <th>image_url</th>\n",
       "      <th>is_closed</th>\n",
       "      <th>url</th>\n",
       "      <th>review_count</th>\n",
       "      <th>categories</th>\n",
       "      <th>rating</th>\n",
       "      <th>coordinates</th>\n",
       "      <th>transactions</th>\n",
       "      <th>price</th>\n",
       "      <th>location</th>\n",
       "      <th>phone</th>\n",
       "      <th>display_phone</th>\n",
       "      <th>distance</th>\n",
       "    </tr>\n",
       "  </thead>\n",
       "  <tbody>\n",
       "    <tr>\n",
       "      <th>562</th>\n",
       "      <td>RcfSRDYNtRT050paSDCnzw</td>\n",
       "      <td>leos-coney-island-riverview</td>\n",
       "      <td>Leo's Coney Island</td>\n",
       "      <td>https://s3-media4.fl.yelpcdn.com/bphoto/-g1eJ3...</td>\n",
       "      <td>False</td>\n",
       "      <td>https://www.yelp.com/biz/leos-coney-island-riv...</td>\n",
       "      <td>44</td>\n",
       "      <td>[{'alias': 'diners', 'title': 'Diners'}]</td>\n",
       "      <td>2.5</td>\n",
       "      <td>{'latitude': 42.168674, 'longitude': -83.189834}</td>\n",
       "      <td>[pickup, delivery]</td>\n",
       "      <td>$</td>\n",
       "      <td>{'address1': '19230 Fort St', 'address2': '', ...</td>\n",
       "      <td>+17347207160</td>\n",
       "      <td>(734) 720-7160</td>\n",
       "      <td>16310.726249</td>\n",
       "    </tr>\n",
       "    <tr>\n",
       "      <th>563</th>\n",
       "      <td>zmjbSJiG1x16f1NtTbgy6Q</td>\n",
       "      <td>hong-kong-one-ferndale</td>\n",
       "      <td>Hong Kong One</td>\n",
       "      <td>https://s3-media3.fl.yelpcdn.com/bphoto/fFDNDB...</td>\n",
       "      <td>False</td>\n",
       "      <td>https://www.yelp.com/biz/hong-kong-one-ferndal...</td>\n",
       "      <td>38</td>\n",
       "      <td>[{'alias': 'cantonese', 'title': 'Cantonese'},...</td>\n",
       "      <td>3.0</td>\n",
       "      <td>{'latitude': 42.4604994, 'longitude': -83.143901}</td>\n",
       "      <td>[pickup, delivery]</td>\n",
       "      <td>$</td>\n",
       "      <td>{'address1': '760 W 9 Mile Rd', 'address2': ''...</td>\n",
       "      <td>+12485447100</td>\n",
       "      <td>(248) 544-7100</td>\n",
       "      <td>17232.850157</td>\n",
       "    </tr>\n",
       "    <tr>\n",
       "      <th>564</th>\n",
       "      <td>fvq6GctVWHECsH3Qr7Cy0w</td>\n",
       "      <td>grand-trunk-pub-detroit-2</td>\n",
       "      <td>Grand Trunk Pub</td>\n",
       "      <td>https://s3-media1.fl.yelpcdn.com/bphoto/mc-KAb...</td>\n",
       "      <td>False</td>\n",
       "      <td>https://www.yelp.com/biz/grand-trunk-pub-detro...</td>\n",
       "      <td>630</td>\n",
       "      <td>[{'alias': 'pubs', 'title': 'Pubs'}, {'alias':...</td>\n",
       "      <td>3.5</td>\n",
       "      <td>{'latitude': 42.33064, 'longitude': -83.04554}</td>\n",
       "      <td>[pickup, delivery]</td>\n",
       "      <td>$$</td>\n",
       "      <td>{'address1': '612 Woodward Ave', 'address2': '...</td>\n",
       "      <td>+13139613043</td>\n",
       "      <td>(313) 961-3043</td>\n",
       "      <td>13907.983326</td>\n",
       "    </tr>\n",
       "    <tr>\n",
       "      <th>565</th>\n",
       "      <td>6DcFy9QWs72IkwTUnwlMkg</td>\n",
       "      <td>china-inn-livonia</td>\n",
       "      <td>China Inn</td>\n",
       "      <td>https://s3-media2.fl.yelpcdn.com/bphoto/7c2OWJ...</td>\n",
       "      <td>False</td>\n",
       "      <td>https://www.yelp.com/biz/china-inn-livonia?adj...</td>\n",
       "      <td>74</td>\n",
       "      <td>[{'alias': 'chinese', 'title': 'Chinese'}, {'a...</td>\n",
       "      <td>2.5</td>\n",
       "      <td>{'latitude': 42.3962102, 'longitude': -83.4142...</td>\n",
       "      <td>[pickup, delivery]</td>\n",
       "      <td>$</td>\n",
       "      <td>{'address1': '37645 5 Mile Rd', 'address2': ''...</td>\n",
       "      <td>+17344626708</td>\n",
       "      <td>(734) 462-6708</td>\n",
       "      <td>18833.737401</td>\n",
       "    </tr>\n",
       "    <tr>\n",
       "      <th>566</th>\n",
       "      <td>FGPQd8GdG1zy7X0r1kaDIg</td>\n",
       "      <td>inyo-ferndale</td>\n",
       "      <td>Inyo</td>\n",
       "      <td>https://s3-media3.fl.yelpcdn.com/bphoto/tMqSlo...</td>\n",
       "      <td>False</td>\n",
       "      <td>https://www.yelp.com/biz/inyo-ferndale?adjust_...</td>\n",
       "      <td>428</td>\n",
       "      <td>[{'alias': 'asianfusion', 'title': 'Asian Fusi...</td>\n",
       "      <td>3.5</td>\n",
       "      <td>{'latitude': 42.461029663682, 'longitude': -83...</td>\n",
       "      <td>[delivery]</td>\n",
       "      <td>$$</td>\n",
       "      <td>{'address1': '22871 Woodward Ave', 'address2':...</td>\n",
       "      <td>+12485439500</td>\n",
       "      <td>(248) 543-9500</td>\n",
       "      <td>17540.390658</td>\n",
       "    </tr>\n",
       "  </tbody>\n",
       "</table>\n",
       "</div>"
      ],
      "text/plain": [
       "                         id                        alias                name  \\\n",
       "562  RcfSRDYNtRT050paSDCnzw  leos-coney-island-riverview  Leo's Coney Island   \n",
       "563  zmjbSJiG1x16f1NtTbgy6Q       hong-kong-one-ferndale       Hong Kong One   \n",
       "564  fvq6GctVWHECsH3Qr7Cy0w    grand-trunk-pub-detroit-2     Grand Trunk Pub   \n",
       "565  6DcFy9QWs72IkwTUnwlMkg            china-inn-livonia           China Inn   \n",
       "566  FGPQd8GdG1zy7X0r1kaDIg                inyo-ferndale                Inyo   \n",
       "\n",
       "                                             image_url  is_closed  \\\n",
       "562  https://s3-media4.fl.yelpcdn.com/bphoto/-g1eJ3...      False   \n",
       "563  https://s3-media3.fl.yelpcdn.com/bphoto/fFDNDB...      False   \n",
       "564  https://s3-media1.fl.yelpcdn.com/bphoto/mc-KAb...      False   \n",
       "565  https://s3-media2.fl.yelpcdn.com/bphoto/7c2OWJ...      False   \n",
       "566  https://s3-media3.fl.yelpcdn.com/bphoto/tMqSlo...      False   \n",
       "\n",
       "                                                   url  review_count  \\\n",
       "562  https://www.yelp.com/biz/leos-coney-island-riv...            44   \n",
       "563  https://www.yelp.com/biz/hong-kong-one-ferndal...            38   \n",
       "564  https://www.yelp.com/biz/grand-trunk-pub-detro...           630   \n",
       "565  https://www.yelp.com/biz/china-inn-livonia?adj...            74   \n",
       "566  https://www.yelp.com/biz/inyo-ferndale?adjust_...           428   \n",
       "\n",
       "                                            categories  rating  \\\n",
       "562           [{'alias': 'diners', 'title': 'Diners'}]     2.5   \n",
       "563  [{'alias': 'cantonese', 'title': 'Cantonese'},...     3.0   \n",
       "564  [{'alias': 'pubs', 'title': 'Pubs'}, {'alias':...     3.5   \n",
       "565  [{'alias': 'chinese', 'title': 'Chinese'}, {'a...     2.5   \n",
       "566  [{'alias': 'asianfusion', 'title': 'Asian Fusi...     3.5   \n",
       "\n",
       "                                           coordinates        transactions  \\\n",
       "562   {'latitude': 42.168674, 'longitude': -83.189834}  [pickup, delivery]   \n",
       "563  {'latitude': 42.4604994, 'longitude': -83.143901}  [pickup, delivery]   \n",
       "564     {'latitude': 42.33064, 'longitude': -83.04554}  [pickup, delivery]   \n",
       "565  {'latitude': 42.3962102, 'longitude': -83.4142...  [pickup, delivery]   \n",
       "566  {'latitude': 42.461029663682, 'longitude': -83...          [delivery]   \n",
       "\n",
       "    price                                           location         phone  \\\n",
       "562     $  {'address1': '19230 Fort St', 'address2': '', ...  +17347207160   \n",
       "563     $  {'address1': '760 W 9 Mile Rd', 'address2': ''...  +12485447100   \n",
       "564    $$  {'address1': '612 Woodward Ave', 'address2': '...  +13139613043   \n",
       "565     $  {'address1': '37645 5 Mile Rd', 'address2': ''...  +17344626708   \n",
       "566    $$  {'address1': '22871 Woodward Ave', 'address2':...  +12485439500   \n",
       "\n",
       "      display_phone      distance  \n",
       "562  (734) 720-7160  16310.726249  \n",
       "563  (248) 544-7100  17232.850157  \n",
       "564  (313) 961-3043  13907.983326  \n",
       "565  (734) 462-6708  18833.737401  \n",
       "566  (248) 543-9500  17540.390658  "
      ]
     },
     "metadata": {},
     "output_type": "display_data"
    }
   ],
   "source": [
    " # load final results\n",
    "final_df = pd.read_json(JSON_FILE)\n",
    "display(final_df.head(), final_df.tail())"
   ]
  },
  {
   "cell_type": "code",
   "execution_count": 19,
   "id": "8536d389",
   "metadata": {},
   "outputs": [
    {
     "data": {
      "text/plain": [
       "0"
      ]
     },
     "execution_count": 19,
     "metadata": {},
     "output_type": "execute_result"
    }
   ],
   "source": [
    "# check for duplicate ID's \n",
    "final_df.duplicated(subset='id').sum()"
   ]
  },
  {
   "cell_type": "code",
   "execution_count": 20,
   "id": "b850142e",
   "metadata": {},
   "outputs": [],
   "source": [
    "# save the final results to a compressed csv\n",
    "final_df.to_csv('Data/final_results_MI_firedchicken.csv.gz', compression='gzip',index=False)"
   ]
  }
 ],
 "metadata": {
  "kernelspec": {
   "display_name": "Python (dojo-env)",
   "language": "python",
   "name": "dojo-env"
  },
  "language_info": {
   "codemirror_mode": {
    "name": "ipython",
    "version": 3
   },
   "file_extension": ".py",
   "mimetype": "text/x-python",
   "name": "python",
   "nbconvert_exporter": "python",
   "pygments_lexer": "ipython3",
   "version": "3.9.15"
  },
  "toc": {
   "base_numbering": 1,
   "nav_menu": {},
   "number_sections": false,
   "sideBar": true,
   "skip_h1_title": false,
   "title_cell": "Table of Contents",
   "title_sidebar": "Contents",
   "toc_cell": false,
   "toc_position": {},
   "toc_section_display": true,
   "toc_window_display": false
  }
 },
 "nbformat": 4,
 "nbformat_minor": 5
}
