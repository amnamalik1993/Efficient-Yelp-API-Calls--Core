{
 "cells": [
  {
   "cell_type": "code",
   "execution_count": 1,
   "id": "696555cf",
   "metadata": {},
   "outputs": [],
   "source": [
    "# Standard Imports\n",
    "import numpy as np\n",
    "import pandas as pd\n",
    "import matplotlib.pyplot as plt\n",
    "import seaborn as sns\n",
    "\n",
    "# Additional Imports\n",
    "import os, json, math, time\n",
    "from yelpapi import YelpAPI\n",
    "from tqdm.notebook import tqdm_notebook"
   ]
  },
  {
   "cell_type": "code",
   "execution_count": 2,
   "id": "6453e39d",
   "metadata": {},
   "outputs": [],
   "source": [
    "with open('/Users/amnam/.secret/yelp_api.json') as f:\n",
    "    login = json.load(f)\n",
    "\n",
    "yelp_api = YelpAPI(login['api-key'], timeout_s=5.0)\n"
   ]
  },
  {
   "cell_type": "code",
   "execution_count": 3,
   "id": "513091ba",
   "metadata": {},
   "outputs": [],
   "source": [
    "# set our API call parameters \n",
    "LOCATION = 'Dearborn,MI'\n",
    "TERM = 'Fried Chicken'"
   ]
  },
  {
   "cell_type": "code",
   "execution_count": 4,
   "id": "8d738f02",
   "metadata": {},
   "outputs": [
    {
     "data": {
      "text/plain": [
       "'Data/results_in_progress_MI_firedchicken.json'"
      ]
     },
     "execution_count": 4,
     "metadata": {},
     "output_type": "execute_result"
    }
   ],
   "source": [
    "JSON_FILE = \"Data/results_in_progress_MI_firedchicken.json\"\n",
    "JSON_FILE"
   ]
  },
  {
   "cell_type": "code",
   "execution_count": 5,
   "id": "00dfd36e",
   "metadata": {},
   "outputs": [
    {
     "name": "stdout",
     "output_type": "stream",
     "text": [
      "[i] Data/results_in_progress_MI_firedchicken.json not found. Saving empty list to file.\n"
     ]
    }
   ],
   "source": [
    "## Check if JSON_FILE exists\n",
    "file_exists = os.path.isfile(JSON_FILE)\n",
    "## If it does not exist: \n",
    "if file_exists == False:\n",
    "    \n",
    "    ## CREATE ANY NEEDED FOLDERS\n",
    "    # Get the Folder Name only\n",
    "    folder = os.path.dirname(JSON_FILE)\n",
    "    ## If JSON_FILE included a folder:\n",
    "    if len(folder)>0:\n",
    "        # create the folder\n",
    "        os.makedirs(folder,exist_ok=True)\n",
    "        \n",
    "        \n",
    "    ## INFORM USER AND SAVE EMPTY LIST\n",
    "    print(f'[i] {JSON_FILE} not found. Saving empty list to file.')\n",
    "    \n",
    "    \n",
    "    # save an empty list\n",
    "    with open(JSON_FILE,'w') as f:\n",
    "        json.dump([],f)  \n",
    "# If it exists, inform user\n",
    "else:\n",
    "    print(f\"[i] {JSON_FILE} already exists.\")"
   ]
  },
  {
   "cell_type": "code",
   "execution_count": 6,
   "id": "812cac51",
   "metadata": {},
   "outputs": [
    {
     "name": "stdout",
     "output_type": "stream",
     "text": [
      "- 0 previous results found.\n"
     ]
    }
   ],
   "source": [
    "## Load previous results and use len of results for offset\n",
    "with open(JSON_FILE,'r') as f:\n",
    "    previous_results = json.load(f)\n",
    "    \n",
    "## set offset based on previous results\n",
    "n_results = len(previous_results)\n",
    "print(f'- {n_results} previous results found.')"
   ]
  },
  {
   "cell_type": "code",
   "execution_count": 7,
   "id": "623862b4",
   "metadata": {},
   "outputs": [
    {
     "data": {
      "text/plain": [
       "dict_keys(['businesses', 'total', 'region'])"
      ]
     },
     "execution_count": 7,
     "metadata": {},
     "output_type": "execute_result"
    }
   ],
   "source": [
    "# use our yelp_api variable's search_query method to perform our API call\n",
    "results = yelp_api.search_query(location=LOCATION,\n",
    "                                term=TERM,\n",
    "                               offset=n_results)\n",
    "results.keys()"
   ]
  },
  {
   "cell_type": "code",
   "execution_count": 8,
   "id": "f48727b6",
   "metadata": {},
   "outputs": [
    {
     "data": {
      "text/plain": [
       "564"
      ]
     },
     "execution_count": 8,
     "metadata": {},
     "output_type": "execute_result"
    }
   ],
   "source": [
    "## How many results total?\n",
    "total_results = results['total']\n",
    "total_results"
   ]
  },
  {
   "cell_type": "code",
   "execution_count": 9,
   "id": "c23bc02e",
   "metadata": {},
   "outputs": [
    {
     "data": {
      "text/plain": [
       "20"
      ]
     },
     "execution_count": 9,
     "metadata": {},
     "output_type": "execute_result"
    }
   ],
   "source": [
    "## How many did we get the details for?\n",
    "results_per_page = len(results['businesses'])\n",
    "results_per_page"
   ]
  },
  {
   "cell_type": "code",
   "execution_count": 10,
   "id": "c2401e44",
   "metadata": {},
   "outputs": [
    {
     "data": {
      "text/plain": [
       "29"
      ]
     },
     "execution_count": 10,
     "metadata": {},
     "output_type": "execute_result"
    }
   ],
   "source": [
    "# Import additional packages for controlling our loop\n",
    "import time, math\n",
    "# Use math.ceil to round up for the total number of pages of results.\n",
    "n_pages = math.ceil((results['total']-n_results)/ results_per_page)\n",
    "n_pages"
   ]
  },
  {
   "cell_type": "code",
   "execution_count": 11,
   "id": "cceaa7ed",
   "metadata": {},
   "outputs": [],
   "source": [
    "# join new results with old list with extend and save to file\n",
    "previous_results.extend(results['businesses'])  \n",
    "with open(JSON_FILE,'w') as f:\n",
    "     json.dump(previous_results,f)"
   ]
  },
  {
   "cell_type": "code",
   "execution_count": 12,
   "id": "2904ce02",
   "metadata": {},
   "outputs": [
    {
     "data": {
      "application/vnd.jupyter.widget-view+json": {
       "model_id": "8afa7ec524be43e0bc5f10adc5cbea9b",
       "version_major": 2,
       "version_minor": 0
      },
      "text/plain": [
       "  0%|          | 0/29 [00:00<?, ?it/s]"
      ]
     },
     "metadata": {},
     "output_type": "display_data"
    }
   ],
   "source": [
    "from tqdm.notebook import tqdm_notebook\n",
    "import time\n",
    "for i in tqdm_notebook(range(n_pages)):\n",
    "    # adds 200 ms pause\n",
    "    time.sleep(.2) "
   ]
  },
  {
   "cell_type": "code",
   "execution_count": 13,
   "id": "b2143265",
   "metadata": {},
   "outputs": [
    {
     "data": {
      "text/html": [
       "<div>\n",
       "<style scoped>\n",
       "    .dataframe tbody tr th:only-of-type {\n",
       "        vertical-align: middle;\n",
       "    }\n",
       "\n",
       "    .dataframe tbody tr th {\n",
       "        vertical-align: top;\n",
       "    }\n",
       "\n",
       "    .dataframe thead th {\n",
       "        text-align: right;\n",
       "    }\n",
       "</style>\n",
       "<table border=\"1\" class=\"dataframe\">\n",
       "  <thead>\n",
       "    <tr style=\"text-align: right;\">\n",
       "      <th></th>\n",
       "      <th>id</th>\n",
       "      <th>alias</th>\n",
       "      <th>name</th>\n",
       "      <th>image_url</th>\n",
       "      <th>is_closed</th>\n",
       "      <th>url</th>\n",
       "      <th>review_count</th>\n",
       "      <th>categories</th>\n",
       "      <th>rating</th>\n",
       "      <th>coordinates</th>\n",
       "      <th>transactions</th>\n",
       "      <th>price</th>\n",
       "      <th>location</th>\n",
       "      <th>phone</th>\n",
       "      <th>display_phone</th>\n",
       "      <th>distance</th>\n",
       "    </tr>\n",
       "  </thead>\n",
       "  <tbody>\n",
       "    <tr>\n",
       "      <th>0</th>\n",
       "      <td>Cu3KC6x3WUFTzcz32TkbfA</td>\n",
       "      <td>ex-wifes-famous-chicken-dearborn-heights</td>\n",
       "      <td>Ex-Wife's Famous Chicken</td>\n",
       "      <td>https://s3-media4.fl.yelpcdn.com/bphoto/zuWl_g...</td>\n",
       "      <td>False</td>\n",
       "      <td>https://www.yelp.com/biz/ex-wifes-famous-chick...</td>\n",
       "      <td>48</td>\n",
       "      <td>[{'alias': 'hotdogs', 'title': 'Fast Food'}, {...</td>\n",
       "      <td>4.0</td>\n",
       "      <td>{'latitude': 42.32736, 'longitude': -83.25863}</td>\n",
       "      <td>[]</td>\n",
       "      <td>$$</td>\n",
       "      <td>{'address1': '22444 Ford Rd', 'address2': None...</td>\n",
       "      <td>+13138801180</td>\n",
       "      <td>(313) 880-1180</td>\n",
       "      <td>4003.498796</td>\n",
       "    </tr>\n",
       "    <tr>\n",
       "      <th>1</th>\n",
       "      <td>7orZgupOKK9I7fYekdhIhA</td>\n",
       "      <td>daves-hot-chicken-dearborn</td>\n",
       "      <td>Dave's Hot Chicken</td>\n",
       "      <td>https://s3-media2.fl.yelpcdn.com/bphoto/QAKdyn...</td>\n",
       "      <td>False</td>\n",
       "      <td>https://www.yelp.com/biz/daves-hot-chicken-dea...</td>\n",
       "      <td>89</td>\n",
       "      <td>[{'alias': 'halal', 'title': 'Halal'}, {'alias...</td>\n",
       "      <td>4.0</td>\n",
       "      <td>{'latitude': 42.30547, 'longitude': -83.2485}</td>\n",
       "      <td>[delivery, pickup]</td>\n",
       "      <td>$$</td>\n",
       "      <td>{'address1': '22208 Michigan Ave', 'address2':...</td>\n",
       "      <td>+13133800699</td>\n",
       "      <td>(313) 380-0699</td>\n",
       "      <td>3046.090322</td>\n",
       "    </tr>\n",
       "    <tr>\n",
       "      <th>2</th>\n",
       "      <td>CYj6Xynv7CwUZPSYoUzCVw</td>\n",
       "      <td>mr-chicken-dearborn-heights</td>\n",
       "      <td>Mr Chicken</td>\n",
       "      <td>https://s3-media3.fl.yelpcdn.com/bphoto/tq_4J1...</td>\n",
       "      <td>False</td>\n",
       "      <td>https://www.yelp.com/biz/mr-chicken-dearborn-h...</td>\n",
       "      <td>92</td>\n",
       "      <td>[{'alias': 'tradamerican', 'title': 'American ...</td>\n",
       "      <td>4.0</td>\n",
       "      <td>{'latitude': 42.33103, 'longitude': -83.27218}</td>\n",
       "      <td>[delivery]</td>\n",
       "      <td>$$</td>\n",
       "      <td>{'address1': '6000 N Telegraph Rd', 'address2'...</td>\n",
       "      <td>+13132770100</td>\n",
       "      <td>(313) 277-0100</td>\n",
       "      <td>5204.792531</td>\n",
       "    </tr>\n",
       "    <tr>\n",
       "      <th>3</th>\n",
       "      <td>H-Ek50bSn5KCBQ1_tVmQAA</td>\n",
       "      <td>gus-world-famous-fried-chicken-westland</td>\n",
       "      <td>Gus' World Famous Fried Chicken</td>\n",
       "      <td>https://s3-media2.fl.yelpcdn.com/bphoto/Ol6V_O...</td>\n",
       "      <td>False</td>\n",
       "      <td>https://www.yelp.com/biz/gus-world-famous-frie...</td>\n",
       "      <td>296</td>\n",
       "      <td>[{'alias': 'southern', 'title': 'Southern'}, {...</td>\n",
       "      <td>4.0</td>\n",
       "      <td>{'latitude': 42.32409, 'longitude': -83.39072}</td>\n",
       "      <td>[delivery, pickup]</td>\n",
       "      <td>$$</td>\n",
       "      <td>{'address1': '35505 Ford Rd', 'address2': '', ...</td>\n",
       "      <td>+17347286170</td>\n",
       "      <td>(734) 728-6170</td>\n",
       "      <td>14632.818763</td>\n",
       "    </tr>\n",
       "    <tr>\n",
       "      <th>4</th>\n",
       "      <td>ejoVEHzo2b0VNpa90uK44g</td>\n",
       "      <td>fat-daddys-hot-chicken-and-waffles-riverview</td>\n",
       "      <td>Fat Daddy's Hot Chicken &amp; Waffles</td>\n",
       "      <td>https://s3-media1.fl.yelpcdn.com/bphoto/u_LlbE...</td>\n",
       "      <td>False</td>\n",
       "      <td>https://www.yelp.com/biz/fat-daddys-hot-chicke...</td>\n",
       "      <td>139</td>\n",
       "      <td>[{'alias': 'waffles', 'title': 'Waffles'}, {'a...</td>\n",
       "      <td>4.5</td>\n",
       "      <td>{'latitude': 42.174526, 'longitude': -83.188452}</td>\n",
       "      <td>[delivery, pickup]</td>\n",
       "      <td>NaN</td>\n",
       "      <td>{'address1': '18283 Fort St', 'address2': '', ...</td>\n",
       "      <td>+17342883051</td>\n",
       "      <td>(734) 288-3051</td>\n",
       "      <td>15678.060298</td>\n",
       "    </tr>\n",
       "  </tbody>\n",
       "</table>\n",
       "</div>"
      ],
      "text/plain": [
       "                       id                                         alias  \\\n",
       "0  Cu3KC6x3WUFTzcz32TkbfA      ex-wifes-famous-chicken-dearborn-heights   \n",
       "1  7orZgupOKK9I7fYekdhIhA                    daves-hot-chicken-dearborn   \n",
       "2  CYj6Xynv7CwUZPSYoUzCVw                   mr-chicken-dearborn-heights   \n",
       "3  H-Ek50bSn5KCBQ1_tVmQAA       gus-world-famous-fried-chicken-westland   \n",
       "4  ejoVEHzo2b0VNpa90uK44g  fat-daddys-hot-chicken-and-waffles-riverview   \n",
       "\n",
       "                                name  \\\n",
       "0           Ex-Wife's Famous Chicken   \n",
       "1                 Dave's Hot Chicken   \n",
       "2                         Mr Chicken   \n",
       "3    Gus' World Famous Fried Chicken   \n",
       "4  Fat Daddy's Hot Chicken & Waffles   \n",
       "\n",
       "                                           image_url  is_closed  \\\n",
       "0  https://s3-media4.fl.yelpcdn.com/bphoto/zuWl_g...      False   \n",
       "1  https://s3-media2.fl.yelpcdn.com/bphoto/QAKdyn...      False   \n",
       "2  https://s3-media3.fl.yelpcdn.com/bphoto/tq_4J1...      False   \n",
       "3  https://s3-media2.fl.yelpcdn.com/bphoto/Ol6V_O...      False   \n",
       "4  https://s3-media1.fl.yelpcdn.com/bphoto/u_LlbE...      False   \n",
       "\n",
       "                                                 url  review_count  \\\n",
       "0  https://www.yelp.com/biz/ex-wifes-famous-chick...            48   \n",
       "1  https://www.yelp.com/biz/daves-hot-chicken-dea...            89   \n",
       "2  https://www.yelp.com/biz/mr-chicken-dearborn-h...            92   \n",
       "3  https://www.yelp.com/biz/gus-world-famous-frie...           296   \n",
       "4  https://www.yelp.com/biz/fat-daddys-hot-chicke...           139   \n",
       "\n",
       "                                          categories  rating  \\\n",
       "0  [{'alias': 'hotdogs', 'title': 'Fast Food'}, {...     4.0   \n",
       "1  [{'alias': 'halal', 'title': 'Halal'}, {'alias...     4.0   \n",
       "2  [{'alias': 'tradamerican', 'title': 'American ...     4.0   \n",
       "3  [{'alias': 'southern', 'title': 'Southern'}, {...     4.0   \n",
       "4  [{'alias': 'waffles', 'title': 'Waffles'}, {'a...     4.5   \n",
       "\n",
       "                                        coordinates        transactions price  \\\n",
       "0    {'latitude': 42.32736, 'longitude': -83.25863}                  []    $$   \n",
       "1     {'latitude': 42.30547, 'longitude': -83.2485}  [delivery, pickup]    $$   \n",
       "2    {'latitude': 42.33103, 'longitude': -83.27218}          [delivery]    $$   \n",
       "3    {'latitude': 42.32409, 'longitude': -83.39072}  [delivery, pickup]    $$   \n",
       "4  {'latitude': 42.174526, 'longitude': -83.188452}  [delivery, pickup]   NaN   \n",
       "\n",
       "                                            location         phone  \\\n",
       "0  {'address1': '22444 Ford Rd', 'address2': None...  +13138801180   \n",
       "1  {'address1': '22208 Michigan Ave', 'address2':...  +13133800699   \n",
       "2  {'address1': '6000 N Telegraph Rd', 'address2'...  +13132770100   \n",
       "3  {'address1': '35505 Ford Rd', 'address2': '', ...  +17347286170   \n",
       "4  {'address1': '18283 Fort St', 'address2': '', ...  +17342883051   \n",
       "\n",
       "    display_phone      distance  \n",
       "0  (313) 880-1180   4003.498796  \n",
       "1  (313) 380-0699   3046.090322  \n",
       "2  (313) 277-0100   5204.792531  \n",
       "3  (734) 728-6170  14632.818763  \n",
       "4  (734) 288-3051  15678.060298  "
      ]
     },
     "metadata": {},
     "output_type": "display_data"
    },
    {
     "data": {
      "text/html": [
       "<div>\n",
       "<style scoped>\n",
       "    .dataframe tbody tr th:only-of-type {\n",
       "        vertical-align: middle;\n",
       "    }\n",
       "\n",
       "    .dataframe tbody tr th {\n",
       "        vertical-align: top;\n",
       "    }\n",
       "\n",
       "    .dataframe thead th {\n",
       "        text-align: right;\n",
       "    }\n",
       "</style>\n",
       "<table border=\"1\" class=\"dataframe\">\n",
       "  <thead>\n",
       "    <tr style=\"text-align: right;\">\n",
       "      <th></th>\n",
       "      <th>id</th>\n",
       "      <th>alias</th>\n",
       "      <th>name</th>\n",
       "      <th>image_url</th>\n",
       "      <th>is_closed</th>\n",
       "      <th>url</th>\n",
       "      <th>review_count</th>\n",
       "      <th>categories</th>\n",
       "      <th>rating</th>\n",
       "      <th>coordinates</th>\n",
       "      <th>transactions</th>\n",
       "      <th>price</th>\n",
       "      <th>location</th>\n",
       "      <th>phone</th>\n",
       "      <th>display_phone</th>\n",
       "      <th>distance</th>\n",
       "    </tr>\n",
       "  </thead>\n",
       "  <tbody>\n",
       "    <tr>\n",
       "      <th>15</th>\n",
       "      <td>s8x1eRJyIKX0xrjNLTFG7w</td>\n",
       "      <td>the-himalayan-flames-dearborn</td>\n",
       "      <td>The Himalayan Flames</td>\n",
       "      <td>https://s3-media2.fl.yelpcdn.com/bphoto/QwcaMl...</td>\n",
       "      <td>False</td>\n",
       "      <td>https://www.yelp.com/biz/the-himalayan-flames-...</td>\n",
       "      <td>220</td>\n",
       "      <td>[{'alias': 'himalayan', 'title': 'Himalayan/Ne...</td>\n",
       "      <td>4.5</td>\n",
       "      <td>{'latitude': 42.305171, 'longitude': -83.249325}</td>\n",
       "      <td>[delivery, pickup]</td>\n",
       "      <td>$$</td>\n",
       "      <td>{'address1': '22266 Michigan Ave', 'address2':...</td>\n",
       "      <td>+13139081193</td>\n",
       "      <td>(313) 908-1193</td>\n",
       "      <td>3140.963700</td>\n",
       "    </tr>\n",
       "    <tr>\n",
       "      <th>16</th>\n",
       "      <td>ozZWtgcx1XbnGz4uVm9vmg</td>\n",
       "      <td>captain-jays-fish-and-chicken-detroit-2</td>\n",
       "      <td>Captain Jay's Fish and Chicken</td>\n",
       "      <td>https://s3-media3.fl.yelpcdn.com/bphoto/aI2pUj...</td>\n",
       "      <td>False</td>\n",
       "      <td>https://www.yelp.com/biz/captain-jays-fish-and...</td>\n",
       "      <td>11</td>\n",
       "      <td>[{'alias': 'newamerican', 'title': 'American (...</td>\n",
       "      <td>2.5</td>\n",
       "      <td>{'latitude': 42.3435941629798, 'longitude': -8...</td>\n",
       "      <td>[delivery]</td>\n",
       "      <td>NaN</td>\n",
       "      <td>{'address1': '18440 W Warren Ave', 'address2':...</td>\n",
       "      <td>+13139820100</td>\n",
       "      <td>(313) 982-0100</td>\n",
       "      <td>3300.722848</td>\n",
       "    </tr>\n",
       "    <tr>\n",
       "      <th>17</th>\n",
       "      <td>2zHyxn8w_jIJbjibwIUgoQ</td>\n",
       "      <td>penny-reds-detroit</td>\n",
       "      <td>Penny Red's</td>\n",
       "      <td>https://s3-media1.fl.yelpcdn.com/bphoto/qzgfL9...</td>\n",
       "      <td>False</td>\n",
       "      <td>https://www.yelp.com/biz/penny-reds-detroit?ad...</td>\n",
       "      <td>116</td>\n",
       "      <td>[{'alias': 'chickenshop', 'title': 'Chicken Sh...</td>\n",
       "      <td>3.5</td>\n",
       "      <td>{'latitude': 42.3348666, 'longitude': -83.0482...</td>\n",
       "      <td>[delivery, pickup]</td>\n",
       "      <td>$$</td>\n",
       "      <td>{'address1': '1445 Farmer St', 'address2': '',...</td>\n",
       "      <td></td>\n",
       "      <td></td>\n",
       "      <td>13748.256793</td>\n",
       "    </tr>\n",
       "    <tr>\n",
       "      <th>18</th>\n",
       "      <td>Bzk_iZbNigTTcZdr2F8khw</td>\n",
       "      <td>wishbone-chicken-and-ribs-allen-park</td>\n",
       "      <td>Wishbone Chicken &amp; Ribs</td>\n",
       "      <td>https://s3-media3.fl.yelpcdn.com/bphoto/l7ie09...</td>\n",
       "      <td>False</td>\n",
       "      <td>https://www.yelp.com/biz/wishbone-chicken-and-...</td>\n",
       "      <td>34</td>\n",
       "      <td>[{'alias': 'chicken_wings', 'title': 'Chicken ...</td>\n",
       "      <td>2.5</td>\n",
       "      <td>{'latitude': 42.256335, 'longitude': -83.225526}</td>\n",
       "      <td>[]</td>\n",
       "      <td>$$</td>\n",
       "      <td>{'address1': '18617 Ecorse Rd', 'address2': ''...</td>\n",
       "      <td>+13133839600</td>\n",
       "      <td>(313) 383-9600</td>\n",
       "      <td>6529.038806</td>\n",
       "    </tr>\n",
       "    <tr>\n",
       "      <th>19</th>\n",
       "      <td>EKL28BewkwaF3webb9mWtg</td>\n",
       "      <td>rafics-falafel-dearborn</td>\n",
       "      <td>Rafic's Falafel</td>\n",
       "      <td>https://s3-media3.fl.yelpcdn.com/bphoto/1vzqpD...</td>\n",
       "      <td>False</td>\n",
       "      <td>https://www.yelp.com/biz/rafics-falafel-dearbo...</td>\n",
       "      <td>99</td>\n",
       "      <td>[{'alias': 'lebanese', 'title': 'Lebanese'}, {...</td>\n",
       "      <td>3.5</td>\n",
       "      <td>{'latitude': 42.34133, 'longitude': -83.17692}</td>\n",
       "      <td>[delivery, pickup]</td>\n",
       "      <td>$</td>\n",
       "      <td>{'address1': '6905 Schaefer Rd', 'address2': '...</td>\n",
       "      <td>+13135515046</td>\n",
       "      <td>(313) 551-5046</td>\n",
       "      <td>4224.314500</td>\n",
       "    </tr>\n",
       "  </tbody>\n",
       "</table>\n",
       "</div>"
      ],
      "text/plain": [
       "                        id                                    alias  \\\n",
       "15  s8x1eRJyIKX0xrjNLTFG7w            the-himalayan-flames-dearborn   \n",
       "16  ozZWtgcx1XbnGz4uVm9vmg  captain-jays-fish-and-chicken-detroit-2   \n",
       "17  2zHyxn8w_jIJbjibwIUgoQ                       penny-reds-detroit   \n",
       "18  Bzk_iZbNigTTcZdr2F8khw     wishbone-chicken-and-ribs-allen-park   \n",
       "19  EKL28BewkwaF3webb9mWtg                  rafics-falafel-dearborn   \n",
       "\n",
       "                              name  \\\n",
       "15            The Himalayan Flames   \n",
       "16  Captain Jay's Fish and Chicken   \n",
       "17                     Penny Red's   \n",
       "18         Wishbone Chicken & Ribs   \n",
       "19                 Rafic's Falafel   \n",
       "\n",
       "                                            image_url  is_closed  \\\n",
       "15  https://s3-media2.fl.yelpcdn.com/bphoto/QwcaMl...      False   \n",
       "16  https://s3-media3.fl.yelpcdn.com/bphoto/aI2pUj...      False   \n",
       "17  https://s3-media1.fl.yelpcdn.com/bphoto/qzgfL9...      False   \n",
       "18  https://s3-media3.fl.yelpcdn.com/bphoto/l7ie09...      False   \n",
       "19  https://s3-media3.fl.yelpcdn.com/bphoto/1vzqpD...      False   \n",
       "\n",
       "                                                  url  review_count  \\\n",
       "15  https://www.yelp.com/biz/the-himalayan-flames-...           220   \n",
       "16  https://www.yelp.com/biz/captain-jays-fish-and...            11   \n",
       "17  https://www.yelp.com/biz/penny-reds-detroit?ad...           116   \n",
       "18  https://www.yelp.com/biz/wishbone-chicken-and-...            34   \n",
       "19  https://www.yelp.com/biz/rafics-falafel-dearbo...            99   \n",
       "\n",
       "                                           categories  rating  \\\n",
       "15  [{'alias': 'himalayan', 'title': 'Himalayan/Ne...     4.5   \n",
       "16  [{'alias': 'newamerican', 'title': 'American (...     2.5   \n",
       "17  [{'alias': 'chickenshop', 'title': 'Chicken Sh...     3.5   \n",
       "18  [{'alias': 'chicken_wings', 'title': 'Chicken ...     2.5   \n",
       "19  [{'alias': 'lebanese', 'title': 'Lebanese'}, {...     3.5   \n",
       "\n",
       "                                          coordinates        transactions  \\\n",
       "15   {'latitude': 42.305171, 'longitude': -83.249325}  [delivery, pickup]   \n",
       "16  {'latitude': 42.3435941629798, 'longitude': -8...          [delivery]   \n",
       "17  {'latitude': 42.3348666, 'longitude': -83.0482...  [delivery, pickup]   \n",
       "18   {'latitude': 42.256335, 'longitude': -83.225526}                  []   \n",
       "19     {'latitude': 42.34133, 'longitude': -83.17692}  [delivery, pickup]   \n",
       "\n",
       "   price                                           location         phone  \\\n",
       "15    $$  {'address1': '22266 Michigan Ave', 'address2':...  +13139081193   \n",
       "16   NaN  {'address1': '18440 W Warren Ave', 'address2':...  +13139820100   \n",
       "17    $$  {'address1': '1445 Farmer St', 'address2': '',...                 \n",
       "18    $$  {'address1': '18617 Ecorse Rd', 'address2': ''...  +13133839600   \n",
       "19     $  {'address1': '6905 Schaefer Rd', 'address2': '...  +13135515046   \n",
       "\n",
       "     display_phone      distance  \n",
       "15  (313) 908-1193   3140.963700  \n",
       "16  (313) 982-0100   3300.722848  \n",
       "17                  13748.256793  \n",
       "18  (313) 383-9600   6529.038806  \n",
       "19  (313) 551-5046   4224.314500  "
      ]
     },
     "metadata": {},
     "output_type": "display_data"
    }
   ],
   "source": [
    "# load final results\n",
    "final_df = pd.read_json(JSON_FILE)\n",
    "display(final_df.head(), final_df.tail())"
   ]
  },
  {
   "cell_type": "code",
   "execution_count": 14,
   "id": "8536d389",
   "metadata": {},
   "outputs": [
    {
     "data": {
      "text/plain": [
       "0"
      ]
     },
     "execution_count": 14,
     "metadata": {},
     "output_type": "execute_result"
    }
   ],
   "source": [
    "# check for duplicate ID's \n",
    "final_df.duplicated(subset='id').sum()"
   ]
  },
  {
   "cell_type": "code",
   "execution_count": 15,
   "id": "b850142e",
   "metadata": {},
   "outputs": [],
   "source": [
    "# save the final results to a compressed csv\n",
    "final_df.to_csv('Data/final_results_MI_firedchicken.csv.gz', compression='gzip',index=False)"
   ]
  }
 ],
 "metadata": {
  "kernelspec": {
   "display_name": "Python (dojo-env)",
   "language": "python",
   "name": "dojo-env"
  },
  "language_info": {
   "codemirror_mode": {
    "name": "ipython",
    "version": 3
   },
   "file_extension": ".py",
   "mimetype": "text/x-python",
   "name": "python",
   "nbconvert_exporter": "python",
   "pygments_lexer": "ipython3",
   "version": "3.9.15"
  },
  "toc": {
   "base_numbering": 1,
   "nav_menu": {},
   "number_sections": false,
   "sideBar": true,
   "skip_h1_title": false,
   "title_cell": "Table of Contents",
   "title_sidebar": "Contents",
   "toc_cell": false,
   "toc_position": {},
   "toc_section_display": true,
   "toc_window_display": false
  }
 },
 "nbformat": 4,
 "nbformat_minor": 5
}
